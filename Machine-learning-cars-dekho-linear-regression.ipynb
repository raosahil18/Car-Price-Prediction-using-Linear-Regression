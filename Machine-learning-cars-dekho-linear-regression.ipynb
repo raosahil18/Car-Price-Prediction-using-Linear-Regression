{
 "cells": [
  {
   "cell_type": "markdown",
   "id": "f8f28c9c",
   "metadata": {},
   "source": [
    "## Dataset Description:\n",
    "\n",
    "| Column Name            | Description                                                                            |\n",
    "|------------------------|----------------------------------------------------------------------------------------|\n",
    "|Car_Name               | Name of the cars.                                                                                 |\n",
    "|Year                   | Year of the car when it was bought.                                                               |\n",
    "|Selling_Price          | Price at which the car is being sold.                                                             |\n",
    "|Present_Price          | Current ex-showroom price of the car.                                                             |\n",
    "|Kms_Driven             | Distance completed by the car in km.                                                              |\n",
    "|Fuel_Type              | Fuel type of the car.                                                                             |\n",
    "|Seller_Type            | Tells if a Seller is Individual or a Dealer.                                                      |\n",
    "|Transmission           | Gear transmission of the car (Automatic/Manual).                                                  |\n",
    "|Owner                  | Number of previous owners of the car.                                                             |                                  \n"
   ]
  },
  {
   "cell_type": "markdown",
   "id": "2e80798b",
   "metadata": {},
   "source": [
    "# <p id=\"1\" style=\"text-align: center; padding: 20px; background-color: #f0cccc; border-radius: 10px; border: 2px solid #90CDF4; font-size: 16px; color: #1A202C; box-shadow: 0 4px 6px rgba(0, 0, 0, 0.1);\">1: Import Libraries</p>"
   ]
  },
  {
   "cell_type": "code",
   "execution_count": 1,
   "id": "df5d4ce8",
   "metadata": {},
   "outputs": [],
   "source": [
    "## Importing libraries\n",
    "import numpy as np \n",
    "import pandas as pd\n",
    "from matplotlib import pyplot as plt\n",
    "import seaborn as sns\n",
    "%matplotlib inline\n",
    "import warnings\n",
    "warnings.filterwarnings(\"ignore\")\n",
    "import os"
   ]
  },
  {
   "cell_type": "markdown",
   "id": "f2ba4f2e",
   "metadata": {},
   "source": [
    "# <p id=\"2\" style=\"text-align: center; padding: 20px; background-color: #f0cccc; border-radius: 10px; border: 2px solid #90CDF4; font-size: 16px; color: #1A202C; box-shadow: 0 4px 6px rgba(0, 0, 0, 0.1);\">2. Data Preparation</p>\n"
   ]
  },
  {
   "cell_type": "code",
   "execution_count": 2,
   "id": "bb6178ce",
   "metadata": {},
   "outputs": [],
   "source": [
    "os.chdir(\"C:/Users/HP/OneDrive/Desktop/Machine Learning/Linear_Regression/assigment case study (CARS )\")\n",
    "dataset = pd.read_csv(\"car data.csv\")"
   ]
  },
  {
   "cell_type": "code",
   "execution_count": 3,
   "id": "e88d7ae1",
   "metadata": {},
   "outputs": [
    {
     "data": {
      "text/html": [
       "<div>\n",
       "<style scoped>\n",
       "    .dataframe tbody tr th:only-of-type {\n",
       "        vertical-align: middle;\n",
       "    }\n",
       "\n",
       "    .dataframe tbody tr th {\n",
       "        vertical-align: top;\n",
       "    }\n",
       "\n",
       "    .dataframe thead th {\n",
       "        text-align: right;\n",
       "    }\n",
       "</style>\n",
       "<table border=\"1\" class=\"dataframe\">\n",
       "  <thead>\n",
       "    <tr style=\"text-align: right;\">\n",
       "      <th></th>\n",
       "      <th>Car_Name</th>\n",
       "      <th>Year</th>\n",
       "      <th>Selling_Price</th>\n",
       "      <th>Present_Price</th>\n",
       "      <th>Kms_Driven</th>\n",
       "      <th>Fuel_Type</th>\n",
       "      <th>Seller_Type</th>\n",
       "      <th>Transmission</th>\n",
       "      <th>Owner</th>\n",
       "    </tr>\n",
       "  </thead>\n",
       "  <tbody>\n",
       "    <tr>\n",
       "      <th>0</th>\n",
       "      <td>ritz</td>\n",
       "      <td>2014</td>\n",
       "      <td>3.35</td>\n",
       "      <td>5.59</td>\n",
       "      <td>27000</td>\n",
       "      <td>Petrol</td>\n",
       "      <td>Dealer</td>\n",
       "      <td>Manual</td>\n",
       "      <td>0</td>\n",
       "    </tr>\n",
       "    <tr>\n",
       "      <th>1</th>\n",
       "      <td>sx4</td>\n",
       "      <td>2013</td>\n",
       "      <td>4.75</td>\n",
       "      <td>9.54</td>\n",
       "      <td>43000</td>\n",
       "      <td>Diesel</td>\n",
       "      <td>Dealer</td>\n",
       "      <td>Manual</td>\n",
       "      <td>0</td>\n",
       "    </tr>\n",
       "    <tr>\n",
       "      <th>2</th>\n",
       "      <td>ciaz</td>\n",
       "      <td>2017</td>\n",
       "      <td>7.25</td>\n",
       "      <td>9.85</td>\n",
       "      <td>6900</td>\n",
       "      <td>Petrol</td>\n",
       "      <td>Dealer</td>\n",
       "      <td>Manual</td>\n",
       "      <td>0</td>\n",
       "    </tr>\n",
       "    <tr>\n",
       "      <th>3</th>\n",
       "      <td>wagon r</td>\n",
       "      <td>2011</td>\n",
       "      <td>2.85</td>\n",
       "      <td>4.15</td>\n",
       "      <td>5200</td>\n",
       "      <td>Petrol</td>\n",
       "      <td>Dealer</td>\n",
       "      <td>Manual</td>\n",
       "      <td>0</td>\n",
       "    </tr>\n",
       "    <tr>\n",
       "      <th>4</th>\n",
       "      <td>swift</td>\n",
       "      <td>2014</td>\n",
       "      <td>4.60</td>\n",
       "      <td>6.87</td>\n",
       "      <td>42450</td>\n",
       "      <td>Diesel</td>\n",
       "      <td>Dealer</td>\n",
       "      <td>Manual</td>\n",
       "      <td>0</td>\n",
       "    </tr>\n",
       "  </tbody>\n",
       "</table>\n",
       "</div>"
      ],
      "text/plain": [
       "  Car_Name  Year  Selling_Price  Present_Price  Kms_Driven Fuel_Type  \\\n",
       "0     ritz  2014           3.35           5.59       27000    Petrol   \n",
       "1      sx4  2013           4.75           9.54       43000    Diesel   \n",
       "2     ciaz  2017           7.25           9.85        6900    Petrol   \n",
       "3  wagon r  2011           2.85           4.15        5200    Petrol   \n",
       "4    swift  2014           4.60           6.87       42450    Diesel   \n",
       "\n",
       "  Seller_Type Transmission  Owner  \n",
       "0      Dealer       Manual      0  \n",
       "1      Dealer       Manual      0  \n",
       "2      Dealer       Manual      0  \n",
       "3      Dealer       Manual      0  \n",
       "4      Dealer       Manual      0  "
      ]
     },
     "execution_count": 3,
     "metadata": {},
     "output_type": "execute_result"
    }
   ],
   "source": [
    "## Showing few rows of dataset\n",
    "dataset.head(5)"
   ]
  },
  {
   "cell_type": "markdown",
   "id": "a79edd1e",
   "metadata": {},
   "source": [
    "# <p id=\"3\" style=\"text-align: center; padding: 20px; background-color: #f0cccc; border-radius: 10px; border: 2px solid #90CDF4; font-size: 16px; color: #1A202C; box-shadow: 0 4px 6px rgba(0, 0, 0, 0.1);\">3: Understanding the Dataset</p>\n",
    " "
   ]
  },
  {
   "cell_type": "code",
   "execution_count": 4,
   "id": "86641edd",
   "metadata": {},
   "outputs": [
    {
     "name": "stdout",
     "output_type": "stream",
     "text": [
      "<class 'pandas.core.frame.DataFrame'>\n",
      "RangeIndex: 301 entries, 0 to 300\n",
      "Data columns (total 9 columns):\n",
      " #   Column         Non-Null Count  Dtype  \n",
      "---  ------         --------------  -----  \n",
      " 0   Car_Name       301 non-null    object \n",
      " 1   Year           301 non-null    int64  \n",
      " 2   Selling_Price  301 non-null    float64\n",
      " 3   Present_Price  301 non-null    float64\n",
      " 4   Kms_Driven     301 non-null    int64  \n",
      " 5   Fuel_Type      301 non-null    object \n",
      " 6   Seller_Type    301 non-null    object \n",
      " 7   Transmission   301 non-null    object \n",
      " 8   Owner          301 non-null    int64  \n",
      "dtypes: float64(2), int64(3), object(4)\n",
      "memory usage: 21.3+ KB\n"
     ]
    }
   ],
   "source": [
    "#The info command will help us to understand the different columns present in the dataset and its datatype\n",
    "dataset.info()"
   ]
  },
  {
   "cell_type": "markdown",
   "id": "67880738",
   "metadata": {},
   "source": [
    "###### **Since there is no missing entries in the dataset and datatypes of all columns are correct.** "
   ]
  },
  {
   "cell_type": "code",
   "execution_count": 5,
   "id": "ff9efd8a",
   "metadata": {},
   "outputs": [
    {
     "data": {
      "text/plain": [
       "301"
      ]
     },
     "execution_count": 5,
     "metadata": {},
     "output_type": "execute_result"
    }
   ],
   "source": [
    "#Len command will help us understand the total number of records present in the dataset\n",
    "len(dataset)"
   ]
  },
  {
   "cell_type": "code",
   "execution_count": 6,
   "id": "7fe3249c",
   "metadata": {},
   "outputs": [
    {
     "data": {
      "text/plain": [
       "Index(['Car_Name', 'Year', 'Selling_Price', 'Present_Price', 'Kms_Driven',\n",
       "       'Fuel_Type', 'Seller_Type', 'Transmission', 'Owner'],\n",
       "      dtype='object')"
      ]
     },
     "execution_count": 6,
     "metadata": {},
     "output_type": "execute_result"
    }
   ],
   "source": [
    "#.columns command will help us understand the columns present in the dataset\n",
    "dataset.columns"
   ]
  },
  {
   "cell_type": "code",
   "execution_count": 7,
   "id": "fd2fa472",
   "metadata": {},
   "outputs": [
    {
     "data": {
      "text/plain": [
       "9"
      ]
     },
     "execution_count": 7,
     "metadata": {},
     "output_type": "execute_result"
    }
   ],
   "source": [
    "#The below command will help us understand the total number of columns present in the dataset\n",
    "len(dataset.columns)"
   ]
  },
  {
   "cell_type": "markdown",
   "id": "7945d601",
   "metadata": {},
   "source": [
    "#### Summary Statistics for Numerical Features"
   ]
  },
  {
   "cell_type": "code",
   "execution_count": 8,
   "id": "3990743c",
   "metadata": {},
   "outputs": [
    {
     "data": {
      "text/html": [
       "<div>\n",
       "<style scoped>\n",
       "    .dataframe tbody tr th:only-of-type {\n",
       "        vertical-align: middle;\n",
       "    }\n",
       "\n",
       "    .dataframe tbody tr th {\n",
       "        vertical-align: top;\n",
       "    }\n",
       "\n",
       "    .dataframe thead th {\n",
       "        text-align: right;\n",
       "    }\n",
       "</style>\n",
       "<table border=\"1\" class=\"dataframe\">\n",
       "  <thead>\n",
       "    <tr style=\"text-align: right;\">\n",
       "      <th></th>\n",
       "      <th>count</th>\n",
       "      <th>mean</th>\n",
       "      <th>std</th>\n",
       "      <th>min</th>\n",
       "      <th>25%</th>\n",
       "      <th>50%</th>\n",
       "      <th>75%</th>\n",
       "      <th>max</th>\n",
       "    </tr>\n",
       "  </thead>\n",
       "  <tbody>\n",
       "    <tr>\n",
       "      <th>Year</th>\n",
       "      <td>301.0</td>\n",
       "      <td>2013.627907</td>\n",
       "      <td>2.891554</td>\n",
       "      <td>2003.00</td>\n",
       "      <td>2012.0</td>\n",
       "      <td>2014.0</td>\n",
       "      <td>2016.0</td>\n",
       "      <td>2018.0</td>\n",
       "    </tr>\n",
       "    <tr>\n",
       "      <th>Selling_Price</th>\n",
       "      <td>301.0</td>\n",
       "      <td>4.661296</td>\n",
       "      <td>5.082812</td>\n",
       "      <td>0.10</td>\n",
       "      <td>0.9</td>\n",
       "      <td>3.6</td>\n",
       "      <td>6.0</td>\n",
       "      <td>35.0</td>\n",
       "    </tr>\n",
       "    <tr>\n",
       "      <th>Present_Price</th>\n",
       "      <td>301.0</td>\n",
       "      <td>7.628472</td>\n",
       "      <td>8.644115</td>\n",
       "      <td>0.32</td>\n",
       "      <td>1.2</td>\n",
       "      <td>6.4</td>\n",
       "      <td>9.9</td>\n",
       "      <td>92.6</td>\n",
       "    </tr>\n",
       "    <tr>\n",
       "      <th>Kms_Driven</th>\n",
       "      <td>301.0</td>\n",
       "      <td>36947.205980</td>\n",
       "      <td>38886.883882</td>\n",
       "      <td>500.00</td>\n",
       "      <td>15000.0</td>\n",
       "      <td>32000.0</td>\n",
       "      <td>48767.0</td>\n",
       "      <td>500000.0</td>\n",
       "    </tr>\n",
       "    <tr>\n",
       "      <th>Owner</th>\n",
       "      <td>301.0</td>\n",
       "      <td>0.043189</td>\n",
       "      <td>0.247915</td>\n",
       "      <td>0.00</td>\n",
       "      <td>0.0</td>\n",
       "      <td>0.0</td>\n",
       "      <td>0.0</td>\n",
       "      <td>3.0</td>\n",
       "    </tr>\n",
       "  </tbody>\n",
       "</table>\n",
       "</div>"
      ],
      "text/plain": [
       "               count          mean           std      min      25%      50%  \\\n",
       "Year           301.0   2013.627907      2.891554  2003.00   2012.0   2014.0   \n",
       "Selling_Price  301.0      4.661296      5.082812     0.10      0.9      3.6   \n",
       "Present_Price  301.0      7.628472      8.644115     0.32      1.2      6.4   \n",
       "Kms_Driven     301.0  36947.205980  38886.883882   500.00  15000.0  32000.0   \n",
       "Owner          301.0      0.043189      0.247915     0.00      0.0      0.0   \n",
       "\n",
       "                   75%       max  \n",
       "Year            2016.0    2018.0  \n",
       "Selling_Price      6.0      35.0  \n",
       "Present_Price      9.9      92.6  \n",
       "Kms_Driven     48767.0  500000.0  \n",
       "Owner              0.0       3.0  "
      ]
     },
     "execution_count": 8,
     "metadata": {},
     "output_type": "execute_result"
    }
   ],
   "source": [
    "dataset.describe().T"
   ]
  },
  {
   "cell_type": "markdown",
   "id": "50425b32",
   "metadata": {},
   "source": [
    "#### Summary Statistics for Categorical Features"
   ]
  },
  {
   "cell_type": "code",
   "execution_count": 9,
   "id": "d80c03fa",
   "metadata": {},
   "outputs": [
    {
     "data": {
      "text/html": [
       "<div>\n",
       "<style scoped>\n",
       "    .dataframe tbody tr th:only-of-type {\n",
       "        vertical-align: middle;\n",
       "    }\n",
       "\n",
       "    .dataframe tbody tr th {\n",
       "        vertical-align: top;\n",
       "    }\n",
       "\n",
       "    .dataframe thead th {\n",
       "        text-align: right;\n",
       "    }\n",
       "</style>\n",
       "<table border=\"1\" class=\"dataframe\">\n",
       "  <thead>\n",
       "    <tr style=\"text-align: right;\">\n",
       "      <th></th>\n",
       "      <th>count</th>\n",
       "      <th>unique</th>\n",
       "      <th>top</th>\n",
       "      <th>freq</th>\n",
       "    </tr>\n",
       "  </thead>\n",
       "  <tbody>\n",
       "    <tr>\n",
       "      <th>Car_Name</th>\n",
       "      <td>301</td>\n",
       "      <td>98</td>\n",
       "      <td>city</td>\n",
       "      <td>26</td>\n",
       "    </tr>\n",
       "    <tr>\n",
       "      <th>Fuel_Type</th>\n",
       "      <td>301</td>\n",
       "      <td>3</td>\n",
       "      <td>Petrol</td>\n",
       "      <td>239</td>\n",
       "    </tr>\n",
       "    <tr>\n",
       "      <th>Seller_Type</th>\n",
       "      <td>301</td>\n",
       "      <td>2</td>\n",
       "      <td>Dealer</td>\n",
       "      <td>195</td>\n",
       "    </tr>\n",
       "    <tr>\n",
       "      <th>Transmission</th>\n",
       "      <td>301</td>\n",
       "      <td>2</td>\n",
       "      <td>Manual</td>\n",
       "      <td>261</td>\n",
       "    </tr>\n",
       "  </tbody>\n",
       "</table>\n",
       "</div>"
      ],
      "text/plain": [
       "             count unique     top freq\n",
       "Car_Name       301     98    city   26\n",
       "Fuel_Type      301      3  Petrol  239\n",
       "Seller_Type    301      2  Dealer  195\n",
       "Transmission   301      2  Manual  261"
      ]
     },
     "execution_count": 9,
     "metadata": {},
     "output_type": "execute_result"
    }
   ],
   "source": [
    "dataset.describe(include=\"object\").T"
   ]
  },
  {
   "cell_type": "markdown",
   "id": "f4057af6",
   "metadata": {},
   "source": [
    "# <p id=\"3\" style=\"text-align: center; padding: 20px; background-color: #f0cccc; border-radius: 10px; border: 2px solid #90CDF4; font-size: 16px; color: #1A202C; box-shadow: 0 4px 6px rgba(0, 0, 0, 0.1);\">4: Exploratory Data Analysis</p>"
   ]
  },
  {
   "cell_type": "code",
   "execution_count": 10,
   "id": "9497a70e",
   "metadata": {},
   "outputs": [
    {
     "data": {
      "image/png": "[encoded data removed]",
      "text/plain": [
       "<Figure size 1500x500 with 1 Axes>"
      ]
     },
     "metadata": {},
     "output_type": "display_data"
    }
   ],
   "source": [
    "## Fuel_Type vs selling_Price\n",
    "plt.figure(figsize=(15,5))\n",
    "sns.barplot(data=dataset, y = 'Fuel_Type',x='Selling_Price')\n",
    "plt.show()"
   ]
  },
  {
   "cell_type": "markdown",
   "id": "66453044",
   "metadata": {},
   "source": [
    "`Diesel cars are having higher selling price`"
   ]
  },
  {
   "cell_type": "code",
   "execution_count": 11,
   "id": "3ceeaa7d",
   "metadata": {},
   "outputs": [
    {
     "data": {
      "image/png": "[encoded data removed]",
      "text/plain": [
       "<Figure size 1500x500 with 1 Axes>"
      ]
     },
     "metadata": {},
     "output_type": "display_data"
    }
   ],
   "source": [
    "## Seller_Type vs Selling_Price\n",
    "plt.figure(figsize=(15,5))\n",
    "sns.barplot(data=dataset, y = 'Seller_Type',x='Selling_Price')\n",
    "plt.show()"
   ]
  },
  {
   "cell_type": "markdown",
   "id": "4fc3e14a",
   "metadata": {},
   "source": [
    "`Dealers are having higher selling price`"
   ]
  },
  {
   "cell_type": "code",
   "execution_count": 12,
   "id": "b5cfbd00",
   "metadata": {},
   "outputs": [
    {
     "data": {
      "image/png": "[encoded data removed]",
      "text/plain": [
       "<Figure size 1500x500 with 1 Axes>"
      ]
     },
     "metadata": {},
     "output_type": "display_data"
    }
   ],
   "source": [
    "## Owner vs Selling_Price\n",
    "plt.figure(figsize=(15,5))\n",
    "sns.barplot(data=dataset, x = 'Owner', y='Selling_Price')\n",
    "plt.show()"
   ]
  },
  {
   "cell_type": "markdown",
   "id": "7c04cb66",
   "metadata": {},
   "source": [
    "`Cars with 0 owner are having higher price`"
   ]
  },
  {
   "cell_type": "code",
   "execution_count": 13,
   "id": "b1801c34",
   "metadata": {},
   "outputs": [
    {
     "data": {
      "image/png": "[encoded data removed]",
      "text/plain": [
       "<Figure size 1500x500 with 1 Axes>"
      ]
     },
     "metadata": {},
     "output_type": "display_data"
    }
   ],
   "source": [
    "## Transmission vs Selling_Price\n",
    "plt.figure(figsize=(15,5))\n",
    "sns.barplot(data=dataset, y = 'Transmission',x='Selling_Price')\n",
    "plt.show()"
   ]
  },
  {
   "cell_type": "markdown",
   "id": "dac779ed",
   "metadata": {},
   "source": [
    "`Automatic Cars are having higher selling price`"
   ]
  },
  {
   "cell_type": "code",
   "execution_count": 14,
   "id": "c97f960f",
   "metadata": {},
   "outputs": [
    {
     "data": {
      "image/png": "[encoded data removed]",
      "text/plain": [
       "<Figure size 1500x500 with 1 Axes>"
      ]
     },
     "metadata": {},
     "output_type": "display_data"
    }
   ],
   "source": [
    "## Year vs Selling_Price\n",
    "plt.figure(figsize=(15,5))\n",
    "sns.barplot(data=dataset, x = 'Year',y='Selling_Price')\n",
    "plt.show()"
   ]
  },
  {
   "cell_type": "markdown",
   "id": "36abf9d1",
   "metadata": {},
   "source": [
    "`Newer the car is, higher the selling price it will have`"
   ]
  },
  {
   "cell_type": "code",
   "execution_count": 15,
   "id": "031712d6",
   "metadata": {},
   "outputs": [
    {
     "data": {
      "text/plain": [
       "<Figure size 1500x500 with 0 Axes>"
      ]
     },
     "metadata": {},
     "output_type": "display_data"
    },
    {
     "data": {
      "image/png": "[encoded data removed]",
      "text/plain": [
       "<Figure size 500x500 with 1 Axes>"
      ]
     },
     "metadata": {},
     "output_type": "display_data"
    }
   ],
   "source": [
    "## Kms_Driven vs Selling_Price\n",
    "plt.figure(figsize=(15,5))\n",
    "sns.lmplot(data=dataset, x = 'Kms_Driven',y='Selling_Price')\n",
    "plt.show()"
   ]
  },
  {
   "cell_type": "markdown",
   "id": "fee91ab7",
   "metadata": {},
   "source": [
    "`If the Kilometer driven are lesser more the selling price is High`"
   ]
  },
  {
   "cell_type": "code",
   "execution_count": 16,
   "id": "4e4f2606",
   "metadata": {},
   "outputs": [
    {
     "data": {
      "text/plain": [
       "<Figure size 1500x500 with 0 Axes>"
      ]
     },
     "metadata": {},
     "output_type": "display_data"
    },
    {
     "data": {
      "image/png": "[encoded data removed]",
      "text/plain": [
       "<Figure size 500x500 with 1 Axes>"
      ]
     },
     "metadata": {},
     "output_type": "display_data"
    }
   ],
   "source": [
    "## Present_Price vs Selling_Price\n",
    "plt.figure(figsize=(15,5))\n",
    "sns.lmplot(data=dataset, x = 'Present_Price',y='Selling_Price')\n",
    "plt.show()"
   ]
  },
  {
   "cell_type": "markdown",
   "id": "79ef8759",
   "metadata": {},
   "source": [
    "# <p id=\"3\" style=\"text-align: center; padding: 20px; background-color: #f0cccc; border-radius: 10px; border: 2px solid #90CDF4; font-size: 16px; color: #1A202C; box-shadow: 0 4px 6px rgba(0, 0, 0, 0.1);\">5: Outlier Treatment</p>"
   ]
  },
  {
   "cell_type": "code",
   "execution_count": 17,
   "id": "775357c2",
   "metadata": {},
   "outputs": [],
   "source": [
    "#Outlier Treatment\n",
    "def outlier_treatment(dataframe):\n",
    "    Q1 = dataframe.quantile(0.25)\n",
    "    Q3 = dataframe.quantile(0.75)\n",
    "    IQR = Q3 - Q1\n",
    "    df_rem_out = dataframe[~((dataframe < (Q1 - 1.5*IQR))| (dataframe > (Q3 + 1.5*IQR))).any(axis=1)]\n",
    "    return df_rem_out\n",
    "\n",
    "dataset = outlier_treatment(dataset)"
   ]
  },
  {
   "cell_type": "code",
   "execution_count": 18,
   "id": "089d5079",
   "metadata": {},
   "outputs": [
    {
     "data": {
      "text/plain": [
       "264"
      ]
     },
     "execution_count": 18,
     "metadata": {},
     "output_type": "execute_result"
    }
   ],
   "source": [
    "len(dataset)"
   ]
  },
  {
   "cell_type": "markdown",
   "id": "96abaccf",
   "metadata": {},
   "source": [
    "**There were outliers in the dataset as before outliers treatment the length of dataset was 301 and after outliers treatment is 264.** "
   ]
  },
  {
   "cell_type": "markdown",
   "id": "4ac1ae4e",
   "metadata": {},
   "source": [
    "# <p id=\"3\" style=\"text-align: center; padding: 20px; background-color: #f0cccc; border-radius: 10px; border: 2px solid #90CDF4; font-size: 16px; color: #1A202C; box-shadow: 0 4px 6px rgba(0, 0, 0, 0.1);\">6: Missing Value Treatment</p>"
   ]
  },
  {
   "cell_type": "code",
   "execution_count": 19,
   "id": "45bc21f7",
   "metadata": {},
   "outputs": [
    {
     "data": {
      "text/plain": [
       "Car_Name         0.0\n",
       "Year             0.0\n",
       "Selling_Price    0.0\n",
       "Present_Price    0.0\n",
       "Kms_Driven       0.0\n",
       "Fuel_Type        0.0\n",
       "Seller_Type      0.0\n",
       "Transmission     0.0\n",
       "Owner            0.0\n",
       "dtype: float64"
      ]
     },
     "execution_count": 19,
     "metadata": {},
     "output_type": "execute_result"
    }
   ],
   "source": [
    "#Checking the count of the missing values percentage, there are very few missing values there in the dataset\n",
    "dataset.isnull().sum()/len(dataset)*100"
   ]
  },
  {
   "cell_type": "markdown",
   "id": "1e27bf8f",
   "metadata": {},
   "source": [
    "**In this dataset there are no missing values so we are good to proceed to the next steps.**"
   ]
  },
  {
   "cell_type": "markdown",
   "id": "53434813",
   "metadata": {},
   "source": [
    "# <p id=\"3\" style=\"text-align: center; padding: 20px; background-color: #f0cccc; border-radius: 10px; border: 2px solid #90CDF4; font-size: 16px; color: #1A202C; box-shadow: 0 4px 6px rgba(0, 0, 0, 0.1);\">7: Encoding</p>"
   ]
  },
  {
   "cell_type": "code",
   "execution_count": 20,
   "id": "30237613",
   "metadata": {},
   "outputs": [],
   "source": [
    "# Separating the numerical and categorical columns\n",
    "def data_type(dataset):\n",
    "    numerical = []\n",
    "    categorical = []\n",
    "    for i in dataset.columns:\n",
    "        if dataset[i].dtype == 'int64' or dataset[i].dtype == 'float64':\n",
    "            numerical.append(i)\n",
    "        else:\n",
    "            categorical.append(i)\n",
    "    return numerical, categorical\n",
    "\n",
    "numerical, categorical = data_type(dataset)\n",
    "\n",
    "# Identifying the binary columns and ignoring them from scaling\n",
    "def binary_columns(df):\n",
    "    binary_cols = []\n",
    "    for col in df.select_dtypes(include=['int', 'float']).columns:\n",
    "        unique_values = df[col].unique()\n",
    "        if np.in1d(unique_values, [0, 1]).all():\n",
    "            binary_cols.append(col)\n",
    "    return binary_cols\n",
    "\n",
    "binary_cols = binary_columns(dataset)\n",
    "\n",
    "# Remove the binary columns from the numerical columns\n",
    "numerical = [i for i in numerical if i not in binary_cols]\n",
    "\n",
    "def encoding(dataset, categorical):\n",
    "    for i in categorical:\n",
    "        dataset[i] = dataset[i].astype('category')\n",
    "        dataset[i] = dataset[i].cat.codes\n",
    "    return dataset\n",
    "\n",
    "dataset = encoding(dataset, categorical)"
   ]
  },
  {
   "cell_type": "code",
   "execution_count": 21,
   "id": "47ad0713",
   "metadata": {},
   "outputs": [
    {
     "data": {
      "text/html": [
       "<div>\n",
       "<style scoped>\n",
       "    .dataframe tbody tr th:only-of-type {\n",
       "        vertical-align: middle;\n",
       "    }\n",
       "\n",
       "    .dataframe tbody tr th {\n",
       "        vertical-align: top;\n",
       "    }\n",
       "\n",
       "    .dataframe thead th {\n",
       "        text-align: right;\n",
       "    }\n",
       "</style>\n",
       "<table border=\"1\" class=\"dataframe\">\n",
       "  <thead>\n",
       "    <tr style=\"text-align: right;\">\n",
       "      <th></th>\n",
       "      <th>Car_Name</th>\n",
       "      <th>Year</th>\n",
       "      <th>Selling_Price</th>\n",
       "      <th>Present_Price</th>\n",
       "      <th>Kms_Driven</th>\n",
       "      <th>Fuel_Type</th>\n",
       "      <th>Seller_Type</th>\n",
       "      <th>Transmission</th>\n",
       "      <th>Owner</th>\n",
       "    </tr>\n",
       "  </thead>\n",
       "  <tbody>\n",
       "    <tr>\n",
       "      <th>0</th>\n",
       "      <td>81</td>\n",
       "      <td>2014</td>\n",
       "      <td>3.35</td>\n",
       "      <td>5.59</td>\n",
       "      <td>27000</td>\n",
       "      <td>2</td>\n",
       "      <td>0</td>\n",
       "      <td>1</td>\n",
       "      <td>0</td>\n",
       "    </tr>\n",
       "    <tr>\n",
       "      <th>1</th>\n",
       "      <td>84</td>\n",
       "      <td>2013</td>\n",
       "      <td>4.75</td>\n",
       "      <td>9.54</td>\n",
       "      <td>43000</td>\n",
       "      <td>1</td>\n",
       "      <td>0</td>\n",
       "      <td>1</td>\n",
       "      <td>0</td>\n",
       "    </tr>\n",
       "    <tr>\n",
       "      <th>2</th>\n",
       "      <td>61</td>\n",
       "      <td>2017</td>\n",
       "      <td>7.25</td>\n",
       "      <td>9.85</td>\n",
       "      <td>6900</td>\n",
       "      <td>2</td>\n",
       "      <td>0</td>\n",
       "      <td>1</td>\n",
       "      <td>0</td>\n",
       "    </tr>\n",
       "    <tr>\n",
       "      <th>3</th>\n",
       "      <td>87</td>\n",
       "      <td>2011</td>\n",
       "      <td>2.85</td>\n",
       "      <td>4.15</td>\n",
       "      <td>5200</td>\n",
       "      <td>2</td>\n",
       "      <td>0</td>\n",
       "      <td>1</td>\n",
       "      <td>0</td>\n",
       "    </tr>\n",
       "    <tr>\n",
       "      <th>4</th>\n",
       "      <td>83</td>\n",
       "      <td>2014</td>\n",
       "      <td>4.60</td>\n",
       "      <td>6.87</td>\n",
       "      <td>42450</td>\n",
       "      <td>1</td>\n",
       "      <td>0</td>\n",
       "      <td>1</td>\n",
       "      <td>0</td>\n",
       "    </tr>\n",
       "    <tr>\n",
       "      <th>...</th>\n",
       "      <td>...</td>\n",
       "      <td>...</td>\n",
       "      <td>...</td>\n",
       "      <td>...</td>\n",
       "      <td>...</td>\n",
       "      <td>...</td>\n",
       "      <td>...</td>\n",
       "      <td>...</td>\n",
       "      <td>...</td>\n",
       "    </tr>\n",
       "    <tr>\n",
       "      <th>296</th>\n",
       "      <td>62</td>\n",
       "      <td>2016</td>\n",
       "      <td>9.50</td>\n",
       "      <td>11.60</td>\n",
       "      <td>33988</td>\n",
       "      <td>1</td>\n",
       "      <td>0</td>\n",
       "      <td>1</td>\n",
       "      <td>0</td>\n",
       "    </tr>\n",
       "    <tr>\n",
       "      <th>297</th>\n",
       "      <td>60</td>\n",
       "      <td>2015</td>\n",
       "      <td>4.00</td>\n",
       "      <td>5.90</td>\n",
       "      <td>60000</td>\n",
       "      <td>2</td>\n",
       "      <td>0</td>\n",
       "      <td>1</td>\n",
       "      <td>0</td>\n",
       "    </tr>\n",
       "    <tr>\n",
       "      <th>298</th>\n",
       "      <td>62</td>\n",
       "      <td>2009</td>\n",
       "      <td>3.35</td>\n",
       "      <td>11.00</td>\n",
       "      <td>87934</td>\n",
       "      <td>2</td>\n",
       "      <td>0</td>\n",
       "      <td>1</td>\n",
       "      <td>0</td>\n",
       "    </tr>\n",
       "    <tr>\n",
       "      <th>299</th>\n",
       "      <td>62</td>\n",
       "      <td>2017</td>\n",
       "      <td>11.50</td>\n",
       "      <td>12.50</td>\n",
       "      <td>9000</td>\n",
       "      <td>1</td>\n",
       "      <td>0</td>\n",
       "      <td>1</td>\n",
       "      <td>0</td>\n",
       "    </tr>\n",
       "    <tr>\n",
       "      <th>300</th>\n",
       "      <td>60</td>\n",
       "      <td>2016</td>\n",
       "      <td>5.30</td>\n",
       "      <td>5.90</td>\n",
       "      <td>5464</td>\n",
       "      <td>2</td>\n",
       "      <td>0</td>\n",
       "      <td>1</td>\n",
       "      <td>0</td>\n",
       "    </tr>\n",
       "  </tbody>\n",
       "</table>\n",
       "<p>264 rows × 9 columns</p>\n",
       "</div>"
      ],
      "text/plain": [
       "     Car_Name  Year  Selling_Price  Present_Price  Kms_Driven  Fuel_Type  \\\n",
       "0          81  2014           3.35           5.59       27000          2   \n",
       "1          84  2013           4.75           9.54       43000          1   \n",
       "2          61  2017           7.25           9.85        6900          2   \n",
       "3          87  2011           2.85           4.15        5200          2   \n",
       "4          83  2014           4.60           6.87       42450          1   \n",
       "..        ...   ...            ...            ...         ...        ...   \n",
       "296        62  2016           9.50          11.60       33988          1   \n",
       "297        60  2015           4.00           5.90       60000          2   \n",
       "298        62  2009           3.35          11.00       87934          2   \n",
       "299        62  2017          11.50          12.50        9000          1   \n",
       "300        60  2016           5.30           5.90        5464          2   \n",
       "\n",
       "     Seller_Type  Transmission  Owner  \n",
       "0              0             1      0  \n",
       "1              0             1      0  \n",
       "2              0             1      0  \n",
       "3              0             1      0  \n",
       "4              0             1      0  \n",
       "..           ...           ...    ...  \n",
       "296            0             1      0  \n",
       "297            0             1      0  \n",
       "298            0             1      0  \n",
       "299            0             1      0  \n",
       "300            0             1      0  \n",
       "\n",
       "[264 rows x 9 columns]"
      ]
     },
     "execution_count": 21,
     "metadata": {},
     "output_type": "execute_result"
    }
   ],
   "source": [
    "dataset"
   ]
  },
  {
   "cell_type": "markdown",
   "id": "af6ac4a5",
   "metadata": {},
   "source": [
    "# <p id=\"3\" style=\"text-align: center; padding: 20px; background-color: #f0cccc; border-radius: 10px; border: 2px solid #90CDF4; font-size: 16px; color: #1A202C; box-shadow: 0 4px 6px rgba(0, 0, 0, 0.1);\">8: Splitting the data into Train and Test</p>"
   ]
  },
  {
   "cell_type": "code",
   "execution_count": 22,
   "id": "811d8b79",
   "metadata": {},
   "outputs": [],
   "source": [
    "x = dataset.iloc[:,[1,3,4,5,6,7,8]].values"
   ]
  },
  {
   "cell_type": "code",
   "execution_count": 23,
   "id": "b846fab3",
   "metadata": {},
   "outputs": [],
   "source": [
    "y=dataset.iloc[:,2].values"
   ]
  },
  {
   "cell_type": "code",
   "execution_count": 24,
   "id": "3c3a8eaa",
   "metadata": {},
   "outputs": [],
   "source": [
    "from sklearn.model_selection import train_test_split\n",
    "x_train,x_test,y_train,y_test = train_test_split(x,y,test_size=0.3)"
   ]
  },
  {
   "cell_type": "markdown",
   "id": "818e9b19",
   "metadata": {},
   "source": [
    "# <p id=\"3\" style=\"text-align: center; padding: 20px; background-color: #f0cccc; border-radius: 10px; border: 2px solid #90CDF4; font-size: 16px; color: #1A202C; box-shadow: 0 4px 6px rgba(0, 0, 0, 0.1);\">9: Model Selection</p>"
   ]
  },
  {
   "cell_type": "code",
   "execution_count": 25,
   "id": "7ab249ae",
   "metadata": {},
   "outputs": [
    {
     "name": "stdout",
     "output_type": "stream",
     "text": [
      "R^2: 0.8864355847070122\n"
     ]
    }
   ],
   "source": [
    "from sklearn.linear_model import LinearRegression\n",
    "\n",
    "# Fitting the model\n",
    "\n",
    "regressor_ini = LinearRegression()\n",
    "regressor_ini.fit(x_train, y_train)\n",
    "\n",
    "\n",
    "# Returning the R^2 for the model\n",
    "\n",
    "regressor_ini_R2 = regressor_ini.score(x_train, y_train)\n",
    "print('R^2: {0}'.format(regressor_ini_R2))"
   ]
  },
  {
   "cell_type": "code",
   "execution_count": 26,
   "id": "3709e5b1",
   "metadata": {},
   "outputs": [],
   "source": [
    "def calculate_residuals(model, features, label):\n",
    "    \"\"\"\n",
    "    Creates predictions on the features with the model and calculates residuals\n",
    "    \"\"\"\n",
    "    predictions = model.predict(features)\n",
    "    df_results = pd.DataFrame({'Actual': label, 'Predicted': predictions})\n",
    "    df_results['Residuals'] = abs(df_results['Actual']) - abs(df_results['Predicted'])\n",
    "    \n",
    "    return df_results"
   ]
  },
  {
   "cell_type": "markdown",
   "id": "d348538c",
   "metadata": {},
   "source": [
    "# <p id=\"3\" style=\"text-align: center; padding: 20px; background-color: #f0cccc; border-radius: 10px; border: 2px solid #90CDF4; font-size: 16px; color: #1A202C; box-shadow: 0 4px 6px rgba(0, 0, 0, 0.1);\">10: Diagnostic Plots</p>\n",
    "\n",
    "## Linear Regression Assumptions"
   ]
  },
  {
   "cell_type": "code",
   "execution_count": 27,
   "id": "b473bda9",
   "metadata": {},
   "outputs": [],
   "source": [
    "def linear_assumption(model, features, label):\n",
    "    print('Assumption 1: Linear Relationship between the Target and the Feature', '\\n')\n",
    "        \n",
    "    print('Checking with a scatter plot of actual vs. predicted.',\n",
    "           'Predictions should follow the diagonal line.')\n",
    "    \n",
    "    # Calculating residuals for the plot\n",
    "    df_results = calculate_residuals(model, features, label)\n",
    "    \n",
    "    # Plotting the actual vs predicted values\n",
    "    sns.lmplot(x='Actual', y='Predicted', data=df_results, fit_reg=False)\n",
    "        \n",
    "    # Plotting the diagonal line\n",
    "    line_coords = np.arange(df_results.min().min(), df_results.max().max())\n",
    "    plt.plot(line_coords, line_coords,  # X and y points\n",
    "             color='darkorange', linestyle='--')\n",
    "    plt.title('Actual vs. Predicted')\n",
    "    plt.show()"
   ]
  },
  {
   "cell_type": "code",
   "execution_count": 28,
   "id": "ca3128ed",
   "metadata": {},
   "outputs": [
    {
     "name": "stdout",
     "output_type": "stream",
     "text": [
      "Assumption 1: Linear Relationship between the Target and the Feature \n",
      "\n",
      "Checking with a scatter plot of actual vs. predicted. Predictions should follow the diagonal line.\n"
     ]
    },
    {
     "data": {
      "image/png": "[encoded data removed]",
      "text/plain": [
       "<Figure size 500x500 with 1 Axes>"
      ]
     },
     "metadata": {},
     "output_type": "display_data"
    }
   ],
   "source": [
    "# 1. linear_assumption\n",
    "linear_assumption(regressor_ini, x_train, y_train)"
   ]
  },
  {
   "cell_type": "code",
   "execution_count": 29,
   "id": "2cb35bbb",
   "metadata": {},
   "outputs": [],
   "source": [
    "def normal_errors_assumption(model, features, label, p_value_thresh=0.05):\n",
    "    from statsmodels.stats.diagnostic import normal_ad\n",
    "    print('Assumption 2: The error terms are normally distributed', '\\n')\n",
    "    \n",
    "    # Calculating residuals for the Anderson-Darling test\n",
    "    df_results = calculate_residuals(model, features, label)\n",
    "    \n",
    "    print('Using the Anderson-Darling test for normal distribution')\n",
    "\n",
    "    # Performing the test on the residuals\n",
    "    p_value = normal_ad(df_results['Residuals'])[1]\n",
    "    print('p-value from the test - below 0.05 generally means non-normal:', p_value)\n",
    "    \n",
    "    # Reporting the normality of the residuals\n",
    "    if p_value < p_value_thresh:\n",
    "        print('Residuals are not normally distributed')\n",
    "    else:\n",
    "        print('Residuals are normally distributed')\n",
    "    \n",
    "    # Plotting the residuals distribution\n",
    "    plt.subplots(figsize=(12, 6))\n",
    "    plt.title('Distribution of Residuals')\n",
    "    sns.distplot(df_results['Residuals'])\n",
    "    plt.show()\n",
    "    \n",
    "    print()\n",
    "    if p_value > p_value_thresh:\n",
    "        print('Assumption satisfied')\n",
    "    else:\n",
    "        print('Assumption not satisfied')\n",
    "        print()\n",
    "        print('Confidence intervals will likely be affected')\n",
    "        print('Try performing nonlinear transformations on variables')"
   ]
  },
  {
   "cell_type": "code",
   "execution_count": 30,
   "id": "82325f30",
   "metadata": {},
   "outputs": [
    {
     "name": "stdout",
     "output_type": "stream",
     "text": [
      "Assumption 2: The error terms are normally distributed \n",
      "\n",
      "Using the Anderson-Darling test for normal distribution\n",
      "p-value from the test - below 0.05 generally means non-normal: 0.00017152494271683422\n",
      "Residuals are not normally distributed\n"
     ]
    },
    {
     "data": {
      "image/png": "[encoded data removed]",
      "text/plain": [
       "<Figure size 1200x600 with 1 Axes>"
      ]
     },
     "metadata": {},
     "output_type": "display_data"
    },
    {
     "name": "stdout",
     "output_type": "stream",
     "text": [
      "\n",
      "Assumption not satisfied\n",
      "\n",
      "Confidence intervals will likely be affected\n",
      "Try performing nonlinear transformations on variables\n"
     ]
    }
   ],
   "source": [
    "# 2. normal_errors_assumption\n",
    "normal_errors_assumption(regressor_ini, x_train, y_train)"
   ]
  },
  {
   "cell_type": "code",
   "execution_count": 31,
   "id": "8c645575",
   "metadata": {},
   "outputs": [],
   "source": [
    "def multicollinearity_assumption(model, features, label, feature_names=None):\n",
    "    from statsmodels.stats.outliers_influence import variance_inflation_factor\n",
    "    print('Assumption 3: Little to no multicollinearity among predictors')\n",
    "        \n",
    "    # Plotting the heatmap\n",
    "    plt.figure(figsize = (10,8))\n",
    "    sns.heatmap(pd.DataFrame(features, columns=feature_names).corr(), annot=True)\n",
    "    plt.title('Correlation of Variables')\n",
    "    plt.show()\n",
    "        \n",
    "    print('Variance Inflation Factors (VIF)')\n",
    "    print('> 10: An indication that multicollinearity may be present')\n",
    "    print('> 100: Certain multicollinearity among the variables')\n",
    "    print('-------------------------------------')\n",
    "       \n",
    "    # Gathering the VIF for each variable\n",
    "    VIF = [variance_inflation_factor(features, i) for i in range(features.shape[1])]\n",
    "    for idx, vif in enumerate(VIF):\n",
    "        print('{0}: {1}'.format(feature_names[idx], vif))\n",
    "        \n",
    "    # Gathering and printing total cases of possible or definite multicollinearity\n",
    "    possible_multicollinearity = sum([1 for vif in VIF if vif > 10])\n",
    "    definite_multicollinearity = sum([1 for vif in VIF if vif > 100])\n",
    "    print()\n",
    "    print('{0} cases of possible multicollinearity'.format(possible_multicollinearity))\n",
    "    print('{0} cases of definite multicollinearity'.format(definite_multicollinearity))\n",
    "    print()\n",
    "\n",
    "    if definite_multicollinearity == 0:\n",
    "        if possible_multicollinearity == 0:\n",
    "            print('Assumption satisfied')\n",
    "        else:\n",
    "            print('Assumption possibly satisfied')\n",
    "            print()\n",
    "            print('Coefficient interpretability may be problematic')\n",
    "            print('Consider removing variables with a high Variance Inflation Factor (VIF)')\n",
    "\n",
    "    else:\n",
    "        print('Assumption not satisfied')\n",
    "        print()\n",
    "        print('Coefficient interpretability will be problematic')\n",
    "        print('Consider removing variables with a high Variance Inflation Factor (VIF)')"
   ]
  },
  {
   "cell_type": "code",
   "execution_count": 32,
   "id": "23a4c25a",
   "metadata": {},
   "outputs": [
    {
     "name": "stdout",
     "output_type": "stream",
     "text": [
      "Assumption 3: Little to no multicollinearity among predictors\n"
     ]
    },
    {
     "data": {
      "image/png": "[encoded data removed]",
      "text/plain": [
       "<Figure size 1000x800 with 2 Axes>"
      ]
     },
     "metadata": {},
     "output_type": "display_data"
    },
    {
     "name": "stdout",
     "output_type": "stream",
     "text": [
      "Variance Inflation Factors (VIF)\n",
      "> 10: An indication that multicollinearity may be present\n",
      "> 100: Certain multicollinearity among the variables\n",
      "-------------------------------------\n",
      "Car_Name: 53.56246314617984\n",
      "Selling_Price: 7.392020246001969\n",
      "Kms_Driven: 4.933366822588798\n",
      "Fuel_Type: 21.866605679756024\n",
      "Seller_Type: 3.9537900708015044\n",
      "Transmission: 10.672496465733426\n",
      "Owner: nan\n",
      "\n",
      "3 cases of possible multicollinearity\n",
      "0 cases of definite multicollinearity\n",
      "\n",
      "Assumption possibly satisfied\n",
      "\n",
      "Coefficient interpretability may be problematic\n",
      "Consider removing variables with a high Variance Inflation Factor (VIF)\n"
     ]
    }
   ],
   "source": [
    "# 3. multicollinearity_assumption\n",
    "multicollinearity_assumption(regressor_ini, x_train, y_train, dataset.iloc[:,[0,2,4,5,6,7,8]].columns.values)"
   ]
  },
  {
   "cell_type": "code",
   "execution_count": 33,
   "id": "5c71cc3a",
   "metadata": {},
   "outputs": [],
   "source": [
    "def autocorrelation_assumption(model, features, label):\n",
    "    from statsmodels.stats.stattools import durbin_watson\n",
    "    print('Assumption 4: No Autocorrelation', '\\n')\n",
    "    \n",
    "    # Calculating residuals for the Durbin Watson-tests\n",
    "    df_results = calculate_residuals(model, features, label)\n",
    "\n",
    "    print('\\nPerforming Durbin-Watson Test')\n",
    "    print('Values of 1.5 < d < 2.5 generally show that there is no autocorrelation in the data')\n",
    "    print('0 to 2< is positive autocorrelation')\n",
    "    print('>2 to 4 is negative autocorrelation')\n",
    "    print('-------------------------------------')\n",
    "    durbinWatson = durbin_watson(df_results['Residuals'])\n",
    "    print('Durbin-Watson:', durbinWatson)\n",
    "    if durbinWatson < 1.5:\n",
    "        print('Signs of positive autocorrelation', '\\n')\n",
    "        print('Assumption not satisfied')\n",
    "    elif durbinWatson > 2.5:\n",
    "        print('Signs of negative autocorrelation', '\\n')\n",
    "        print('Assumption not satisfied')\n",
    "    else:\n",
    "        print('Little to no autocorrelation', '\\n')\n",
    "        print('Assumption satisfied')"
   ]
  },
  {
   "cell_type": "code",
   "execution_count": 34,
   "id": "68f25ea8",
   "metadata": {},
   "outputs": [
    {
     "name": "stdout",
     "output_type": "stream",
     "text": [
      "Assumption 4: No Autocorrelation \n",
      "\n",
      "\n",
      "Performing Durbin-Watson Test\n",
      "Values of 1.5 < d < 2.5 generally show that there is no autocorrelation in the data\n",
      "0 to 2< is positive autocorrelation\n",
      ">2 to 4 is negative autocorrelation\n",
      "-------------------------------------\n",
      "Durbin-Watson: 1.9458700657399983\n",
      "Little to no autocorrelation \n",
      "\n",
      "Assumption satisfied\n"
     ]
    }
   ],
   "source": [
    "# 4. autocorrelation_assumption\n",
    "autocorrelation_assumption(regressor_ini, x_train, y_train)"
   ]
  },
  {
   "cell_type": "code",
   "execution_count": 35,
   "id": "1f7b1cf6",
   "metadata": {},
   "outputs": [],
   "source": [
    "def homoscedasticity_assumption(model, features, label):\n",
    "    print('Assumption 5: Homoscedasticity of Error Terms', '\\n')\n",
    "    \n",
    "    print('Residuals should have relative constant variance')\n",
    "        \n",
    "    # Calculating residuals for the plot\n",
    "    df_results = calculate_residuals(model, features, label)\n",
    "\n",
    "    # Plotting the residuals\n",
    "    plt.subplots(figsize=(12, 6))\n",
    "    ax = plt.subplot(111)  # To remove spines\n",
    "    plt.scatter(x=df_results.index, y=df_results.Residuals, alpha=0.5)\n",
    "    plt.plot(np.repeat(0, df_results.index.max()), color='darkorange', linestyle='--')\n",
    "    ax.spines['right'].set_visible(False)  # Removing the right spine\n",
    "    ax.spines['top'].set_visible(False)  # Removing the top spine\n",
    "    plt.title('Residuals')\n",
    "    plt.show()  "
   ]
  },
  {
   "cell_type": "code",
   "execution_count": 36,
   "id": "2e38988c",
   "metadata": {},
   "outputs": [
    {
     "name": "stdout",
     "output_type": "stream",
     "text": [
      "Assumption 5: Homoscedasticity of Error Terms \n",
      "\n",
      "Residuals should have relative constant variance\n"
     ]
    },
    {
     "data": {
      "image/png": "[encoded data removed]",
      "text/plain": [
       "<Figure size 1200x600 with 1 Axes>"
      ]
     },
     "metadata": {},
     "output_type": "display_data"
    }
   ],
   "source": [
    "# 5. homoscedasticity_assumption\n",
    "homoscedasticity_assumption(regressor_ini, x_train, y_train)"
   ]
  },
  {
   "cell_type": "markdown",
   "id": "0cd8fd83",
   "metadata": {},
   "source": [
    "# <p id=\"3\" style=\"text-align: center; padding: 20px; background-color: #f0cccc; border-radius: 10px; border: 2px solid #90CDF4; font-size: 16px; color: #1A202C; box-shadow: 0 4px 6px rgba(0, 0, 0, 0.1);\">11: Building the MLR Model </p>"
   ]
  },
  {
   "cell_type": "code",
   "execution_count": 37,
   "id": "d395dca4",
   "metadata": {},
   "outputs": [
    {
     "data": {
      "text/plain": [
       "(184, 7)"
      ]
     },
     "execution_count": 37,
     "metadata": {},
     "output_type": "execute_result"
    }
   ],
   "source": [
    "x_train.shape"
   ]
  },
  {
   "cell_type": "code",
   "execution_count": 38,
   "id": "126eff27",
   "metadata": {},
   "outputs": [],
   "source": [
    "#Adding the constant 1 to get the Y-Intercept value\n",
    "x_train = np.append(arr=x_train, values = np.ones((184,1)).astype(int), axis=1)"
   ]
  },
  {
   "cell_type": "code",
   "execution_count": 39,
   "id": "72731f70",
   "metadata": {},
   "outputs": [
    {
     "data": {
      "text/plain": [
       "(80, 7)"
      ]
     },
     "execution_count": 39,
     "metadata": {},
     "output_type": "execute_result"
    }
   ],
   "source": [
    "x_test.shape"
   ]
  },
  {
   "cell_type": "code",
   "execution_count": 40,
   "id": "45eb6456",
   "metadata": {},
   "outputs": [],
   "source": [
    "#Adding the constant 1 to get the Y-Intercept value\n",
    "x_test = np.append(arr=x_test, values = np.ones((80,1)).astype(int), axis=1)"
   ]
  },
  {
   "cell_type": "code",
   "execution_count": 41,
   "id": "c34e8e9c",
   "metadata": {},
   "outputs": [],
   "source": [
    "import statsmodels.api as sm"
   ]
  },
  {
   "cell_type": "code",
   "execution_count": 42,
   "id": "8631ebaa",
   "metadata": {},
   "outputs": [],
   "source": [
    "regressor_ini = sm.OLS(endog=y_train, exog=x_train).fit()"
   ]
  },
  {
   "cell_type": "code",
   "execution_count": 43,
   "id": "4616395d",
   "metadata": {},
   "outputs": [
    {
     "data": {
      "text/html": [
       "<table class=\"simpletable\">\n",
       "<caption>OLS Regression Results</caption>\n",
       "<tr>\n",
       "  <th>Dep. Variable:</th>            <td>y</td>        <th>  R-squared:         </th> <td>   0.886</td>\n",
       "</tr>\n",
       "<tr>\n",
       "  <th>Model:</th>                   <td>OLS</td>       <th>  Adj. R-squared:    </th> <td>   0.883</td>\n",
       "</tr>\n",
       "<tr>\n",
       "  <th>Method:</th>             <td>Least Squares</td>  <th>  F-statistic:       </th> <td>   230.3</td>\n",
       "</tr>\n",
       "<tr>\n",
       "  <th>Date:</th>             <td>Wed, 08 May 2024</td> <th>  Prob (F-statistic):</th> <td>7.81e-81</td>\n",
       "</tr>\n",
       "<tr>\n",
       "  <th>Time:</th>                 <td>20:26:23</td>     <th>  Log-Likelihood:    </th> <td> -277.24</td>\n",
       "</tr>\n",
       "<tr>\n",
       "  <th>No. Observations:</th>      <td>   184</td>      <th>  AIC:               </th> <td>   568.5</td>\n",
       "</tr>\n",
       "<tr>\n",
       "  <th>Df Residuals:</th>          <td>   177</td>      <th>  BIC:               </th> <td>   591.0</td>\n",
       "</tr>\n",
       "<tr>\n",
       "  <th>Df Model:</th>              <td>     6</td>      <th>                     </th>     <td> </td>   \n",
       "</tr>\n",
       "<tr>\n",
       "  <th>Covariance Type:</th>      <td>nonrobust</td>    <th>                     </th>     <td> </td>   \n",
       "</tr>\n",
       "</table>\n",
       "<table class=\"simpletable\">\n",
       "<tr>\n",
       "    <td></td>       <th>coef</th>     <th>std err</th>      <th>t</th>      <th>P>|t|</th>  <th>[0.025</th>    <th>0.975]</th>  \n",
       "</tr>\n",
       "<tr>\n",
       "  <th>x1</th>    <td>    0.3783</td> <td>    0.046</td> <td>    8.311</td> <td> 0.000</td> <td>    0.288</td> <td>    0.468</td>\n",
       "</tr>\n",
       "<tr>\n",
       "  <th>x2</th>    <td>    0.5147</td> <td>    0.028</td> <td>   18.452</td> <td> 0.000</td> <td>    0.460</td> <td>    0.570</td>\n",
       "</tr>\n",
       "<tr>\n",
       "  <th>x3</th>    <td>-2.346e-05</td> <td> 6.07e-06</td> <td>   -3.864</td> <td> 0.000</td> <td>-3.54e-05</td> <td>-1.15e-05</td>\n",
       "</tr>\n",
       "<tr>\n",
       "  <th>x4</th>    <td>   -0.9201</td> <td>    0.212</td> <td>   -4.334</td> <td> 0.000</td> <td>   -1.339</td> <td>   -0.501</td>\n",
       "</tr>\n",
       "<tr>\n",
       "  <th>x5</th>    <td>   -1.2855</td> <td>    0.279</td> <td>   -4.604</td> <td> 0.000</td> <td>   -1.837</td> <td>   -0.735</td>\n",
       "</tr>\n",
       "<tr>\n",
       "  <th>x6</th>    <td>   -0.2510</td> <td>    0.282</td> <td>   -0.889</td> <td> 0.375</td> <td>   -0.808</td> <td>    0.306</td>\n",
       "</tr>\n",
       "<tr>\n",
       "  <th>const</th> <td>-1.039e-11</td> <td> 1.26e-12</td> <td>   -8.255</td> <td> 0.000</td> <td>-1.29e-11</td> <td>-7.91e-12</td>\n",
       "</tr>\n",
       "<tr>\n",
       "  <th>x7</th>    <td> -758.0878</td> <td>   91.830</td> <td>   -8.255</td> <td> 0.000</td> <td> -939.311</td> <td> -576.864</td>\n",
       "</tr>\n",
       "</table>\n",
       "<table class=\"simpletable\">\n",
       "<tr>\n",
       "  <th>Omnibus:</th>       <td> 8.059</td> <th>  Durbin-Watson:     </th> <td>   1.891</td>\n",
       "</tr>\n",
       "<tr>\n",
       "  <th>Prob(Omnibus):</th> <td> 0.018</td> <th>  Jarque-Bera (JB):  </th> <td>  15.220</td>\n",
       "</tr>\n",
       "<tr>\n",
       "  <th>Skew:</th>          <td> 0.028</td> <th>  Prob(JB):          </th> <td>0.000496</td>\n",
       "</tr>\n",
       "<tr>\n",
       "  <th>Kurtosis:</th>      <td> 4.408</td> <th>  Cond. No.          </th> <td>1.70e+23</td>\n",
       "</tr>\n",
       "</table><br/><br/>Notes:<br/>[1] Standard Errors assume that the covariance matrix of the errors is correctly specified.<br/>[2] The smallest eigenvalue is 8.6e-36. This might indicate that there are<br/>strong multicollinearity problems or that the design matrix is singular."
      ],
      "text/latex": [
       "\\begin{center}\n",
       "\\begin{tabular}{lclc}\n",
       "\\toprule\n",
       "\\textbf{Dep. Variable:}    &        y         & \\textbf{  R-squared:         } &     0.886   \\\\\n",
       "\\textbf{Model:}            &       OLS        & \\textbf{  Adj. R-squared:    } &     0.883   \\\\\n",
       "\\textbf{Method:}           &  Least Squares   & \\textbf{  F-statistic:       } &     230.3   \\\\\n",
       "\\textbf{Date:}             & Wed, 08 May 2024 & \\textbf{  Prob (F-statistic):} &  7.81e-81   \\\\\n",
       "\\textbf{Time:}             &     20:26:23     & \\textbf{  Log-Likelihood:    } &   -277.24   \\\\\n",
       "\\textbf{No. Observations:} &         184      & \\textbf{  AIC:               } &     568.5   \\\\\n",
       "\\textbf{Df Residuals:}     &         177      & \\textbf{  BIC:               } &     591.0   \\\\\n",
       "\\textbf{Df Model:}         &           6      & \\textbf{                     } &             \\\\\n",
       "\\textbf{Covariance Type:}  &    nonrobust     & \\textbf{                     } &             \\\\\n",
       "\\bottomrule\n",
       "\\end{tabular}\n",
       "\\begin{tabular}{lcccccc}\n",
       "               & \\textbf{coef} & \\textbf{std err} & \\textbf{t} & \\textbf{P$> |$t$|$} & \\textbf{[0.025} & \\textbf{0.975]}  \\\\\n",
       "\\midrule\n",
       "\\textbf{x1}    &       0.3783  &        0.046     &     8.311  &         0.000        &        0.288    &        0.468     \\\\\n",
       "\\textbf{x2}    &       0.5147  &        0.028     &    18.452  &         0.000        &        0.460    &        0.570     \\\\\n",
       "\\textbf{x3}    &   -2.346e-05  &     6.07e-06     &    -3.864  &         0.000        &    -3.54e-05    &    -1.15e-05     \\\\\n",
       "\\textbf{x4}    &      -0.9201  &        0.212     &    -4.334  &         0.000        &       -1.339    &       -0.501     \\\\\n",
       "\\textbf{x5}    &      -1.2855  &        0.279     &    -4.604  &         0.000        &       -1.837    &       -0.735     \\\\\n",
       "\\textbf{x6}    &      -0.2510  &        0.282     &    -0.889  &         0.375        &       -0.808    &        0.306     \\\\\n",
       "\\textbf{const} &   -1.039e-11  &     1.26e-12     &    -8.255  &         0.000        &    -1.29e-11    &    -7.91e-12     \\\\\n",
       "\\textbf{x7}    &    -758.0878  &       91.830     &    -8.255  &         0.000        &     -939.311    &     -576.864     \\\\\n",
       "\\bottomrule\n",
       "\\end{tabular}\n",
       "\\begin{tabular}{lclc}\n",
       "\\textbf{Omnibus:}       &  8.059 & \\textbf{  Durbin-Watson:     } &    1.891  \\\\\n",
       "\\textbf{Prob(Omnibus):} &  0.018 & \\textbf{  Jarque-Bera (JB):  } &   15.220  \\\\\n",
       "\\textbf{Skew:}          &  0.028 & \\textbf{  Prob(JB):          } & 0.000496  \\\\\n",
       "\\textbf{Kurtosis:}      &  4.408 & \\textbf{  Cond. No.          } & 1.70e+23  \\\\\n",
       "\\bottomrule\n",
       "\\end{tabular}\n",
       "%\\caption{OLS Regression Results}\n",
       "\\end{center}\n",
       "\n",
       "Notes: \\newline\n",
       " [1] Standard Errors assume that the covariance matrix of the errors is correctly specified. \\newline\n",
       " [2] The smallest eigenvalue is 8.6e-36. This might indicate that there are \\newline\n",
       " strong multicollinearity problems or that the design matrix is singular."
      ],
      "text/plain": [
       "<class 'statsmodels.iolib.summary.Summary'>\n",
       "\"\"\"\n",
       "                            OLS Regression Results                            \n",
       "==============================================================================\n",
       "Dep. Variable:                      y   R-squared:                       0.886\n",
       "Model:                            OLS   Adj. R-squared:                  0.883\n",
       "Method:                 Least Squares   F-statistic:                     230.3\n",
       "Date:                Wed, 08 May 2024   Prob (F-statistic):           7.81e-81\n",
       "Time:                        20:26:23   Log-Likelihood:                -277.24\n",
       "No. Observations:                 184   AIC:                             568.5\n",
       "Df Residuals:                     177   BIC:                             591.0\n",
       "Df Model:                           6                                         \n",
       "Covariance Type:            nonrobust                                         \n",
       "==============================================================================\n",
       "                 coef    std err          t      P>|t|      [0.025      0.975]\n",
       "------------------------------------------------------------------------------\n",
       "x1             0.3783      0.046      8.311      0.000       0.288       0.468\n",
       "x2             0.5147      0.028     18.452      0.000       0.460       0.570\n",
       "x3         -2.346e-05   6.07e-06     -3.864      0.000   -3.54e-05   -1.15e-05\n",
       "x4            -0.9201      0.212     -4.334      0.000      -1.339      -0.501\n",
       "x5            -1.2855      0.279     -4.604      0.000      -1.837      -0.735\n",
       "x6            -0.2510      0.282     -0.889      0.375      -0.808       0.306\n",
       "const      -1.039e-11   1.26e-12     -8.255      0.000   -1.29e-11   -7.91e-12\n",
       "x7          -758.0878     91.830     -8.255      0.000    -939.311    -576.864\n",
       "==============================================================================\n",
       "Omnibus:                        8.059   Durbin-Watson:                   1.891\n",
       "Prob(Omnibus):                  0.018   Jarque-Bera (JB):               15.220\n",
       "Skew:                           0.028   Prob(JB):                     0.000496\n",
       "Kurtosis:                       4.408   Cond. No.                     1.70e+23\n",
       "==============================================================================\n",
       "\n",
       "Notes:\n",
       "[1] Standard Errors assume that the covariance matrix of the errors is correctly specified.\n",
       "[2] The smallest eigenvalue is 8.6e-36. This might indicate that there are\n",
       "strong multicollinearity problems or that the design matrix is singular.\n",
       "\"\"\""
      ]
     },
     "execution_count": 43,
     "metadata": {},
     "output_type": "execute_result"
    }
   ],
   "source": [
    "regressor_ini.summary()"
   ]
  },
  {
   "cell_type": "code",
   "execution_count": 44,
   "id": "390d74d2",
   "metadata": {},
   "outputs": [],
   "source": [
    "y_pred_ini = regressor_ini.predict(x_test)"
   ]
  },
  {
   "cell_type": "code",
   "execution_count": 45,
   "id": "460da494",
   "metadata": {},
   "outputs": [
    {
     "data": {
      "text/plain": [
       "array([ 4.57240731,  4.77585523,  4.74695936,  1.09189706,  1.26699642,\n",
       "        4.44359574,  7.74307401,  4.12870805,  5.69488883, -0.13547007,\n",
       "        6.0246286 , -1.35031626,  9.8451264 , -1.67048907,  5.43691139,\n",
       "        8.49680035,  2.20982587,  4.73392129,  5.36530039, -0.15386077,\n",
       "        4.08573608,  5.43996105,  1.68590757,  1.40195688,  1.96197498,\n",
       "        1.43070874,  8.55692651,  1.07062315, -0.21452209,  6.18316266,\n",
       "        4.38494846,  8.32688531, -3.17833634,  0.54483837,  3.70765369,\n",
       "        1.12059563, 10.31231345, -0.17267295,  1.1550967 ,  0.48087237,\n",
       "       -2.62311975,  4.54854075, -2.87675375,  5.29697356,  8.28097836,\n",
       "        1.73906517,  3.32396867,  6.04459782,  1.50821668,  6.1006803 ,\n",
       "        5.48095833,  5.14505255, -1.51455766,  4.74242098,  4.71090145,\n",
       "        0.42252294, -4.38948784,  1.86443524,  9.9623975 ,  1.67876471,\n",
       "        1.44233198,  9.31886393,  0.74230413,  1.74993898, -0.3708888 ,\n",
       "        5.08736708,  4.24120509,  4.43411081,  0.67977307,  6.72947887,\n",
       "        2.66444317, -2.07471805,  9.199294  ,  3.9439411 ,  5.39814082,\n",
       "        2.98569377,  5.71767198,  2.25734368,  0.13642719,  5.56054622])"
      ]
     },
     "execution_count": 45,
     "metadata": {},
     "output_type": "execute_result"
    }
   ],
   "source": [
    "y_pred_ini"
   ]
  },
  {
   "cell_type": "markdown",
   "id": "95f922ef",
   "metadata": {},
   "source": [
    "# <p id=\"3\" style=\"text-align: center; padding: 20px; background-color: #f0cccc; border-radius: 10px; border: 2px solid #90CDF4; font-size: 16px; color: #1A202C; box-shadow: 0 4px 6px rgba(0, 0, 0, 0.1);\">12: MLR Model after Removing Insignificant variables </p>\n",
    "\n",
    "#### Since p-value of x6 > 0.5 ,so we reject the variable"
   ]
  },
  {
   "cell_type": "code",
   "execution_count": 46,
   "id": "fe41de1e",
   "metadata": {},
   "outputs": [],
   "source": [
    "x = dataset.iloc[:,[1,3,4,5,6,8]].values\n",
    "y = dataset.iloc[:,2].values"
   ]
  },
  {
   "cell_type": "code",
   "execution_count": 47,
   "id": "4c0634a3",
   "metadata": {},
   "outputs": [],
   "source": [
    "from sklearn.model_selection import train_test_split\n",
    "x_train,x_test,y_train,y_test = train_test_split(x,y,test_size=0.3)"
   ]
  },
  {
   "cell_type": "code",
   "execution_count": 48,
   "id": "9cf2090b",
   "metadata": {},
   "outputs": [],
   "source": [
    "regressor_tuned = sm.OLS(endog=y_train, exog=x_train).fit()"
   ]
  },
  {
   "cell_type": "code",
   "execution_count": 49,
   "id": "666ba25d",
   "metadata": {},
   "outputs": [],
   "source": [
    "y_pred_tuned = regressor_tuned.predict(x_test)"
   ]
  },
  {
   "cell_type": "code",
   "execution_count": 50,
   "id": "cecd2629",
   "metadata": {},
   "outputs": [
    {
     "data": {
      "text/html": [
       "<table class=\"simpletable\">\n",
       "<caption>OLS Regression Results</caption>\n",
       "<tr>\n",
       "  <th>Dep. Variable:</th>            <td>y</td>        <th>  R-squared (uncentered):</th>      <td>   0.935</td> \n",
       "</tr>\n",
       "<tr>\n",
       "  <th>Model:</th>                   <td>OLS</td>       <th>  Adj. R-squared (uncentered):</th> <td>   0.934</td> \n",
       "</tr>\n",
       "<tr>\n",
       "  <th>Method:</th>             <td>Least Squares</td>  <th>  F-statistic:       </th>          <td>   518.8</td> \n",
       "</tr>\n",
       "<tr>\n",
       "  <th>Date:</th>             <td>Wed, 08 May 2024</td> <th>  Prob (F-statistic):</th>          <td>1.81e-104</td>\n",
       "</tr>\n",
       "<tr>\n",
       "  <th>Time:</th>                 <td>20:26:23</td>     <th>  Log-Likelihood:    </th>          <td> -309.57</td> \n",
       "</tr>\n",
       "<tr>\n",
       "  <th>No. Observations:</th>      <td>   184</td>      <th>  AIC:               </th>          <td>   629.1</td> \n",
       "</tr>\n",
       "<tr>\n",
       "  <th>Df Residuals:</th>          <td>   179</td>      <th>  BIC:               </th>          <td>   645.2</td> \n",
       "</tr>\n",
       "<tr>\n",
       "  <th>Df Model:</th>              <td>     5</td>      <th>                     </th>              <td> </td>    \n",
       "</tr>\n",
       "<tr>\n",
       "  <th>Covariance Type:</th>      <td>nonrobust</td>    <th>                     </th>              <td> </td>    \n",
       "</tr>\n",
       "</table>\n",
       "<table class=\"simpletable\">\n",
       "<tr>\n",
       "    <td></td>       <th>coef</th>     <th>std err</th>      <th>t</th>      <th>P>|t|</th>  <th>[0.025</th>    <th>0.975]</th>  \n",
       "</tr>\n",
       "<tr>\n",
       "  <th>x1</th>    <td>    0.0031</td> <td>    0.000</td> <td>   10.674</td> <td> 0.000</td> <td>    0.003</td> <td>    0.004</td>\n",
       "</tr>\n",
       "<tr>\n",
       "  <th>x2</th>    <td>    0.4381</td> <td>    0.031</td> <td>   14.128</td> <td> 0.000</td> <td>    0.377</td> <td>    0.499</td>\n",
       "</tr>\n",
       "<tr>\n",
       "  <th>x3</th>    <td>-4.423e-05</td> <td> 5.23e-06</td> <td>   -8.453</td> <td> 0.000</td> <td>-5.46e-05</td> <td>-3.39e-05</td>\n",
       "</tr>\n",
       "<tr>\n",
       "  <th>x4</th>    <td>   -1.6703</td> <td>    0.256</td> <td>   -6.537</td> <td> 0.000</td> <td>   -2.174</td> <td>   -1.166</td>\n",
       "</tr>\n",
       "<tr>\n",
       "  <th>x5</th>    <td>   -1.6250</td> <td>    0.319</td> <td>   -5.091</td> <td> 0.000</td> <td>   -2.255</td> <td>   -0.995</td>\n",
       "</tr>\n",
       "<tr>\n",
       "  <th>const</th> <td>         0</td> <td>        0</td> <td>      nan</td> <td>   nan</td> <td>        0</td> <td>        0</td>\n",
       "</tr>\n",
       "</table>\n",
       "<table class=\"simpletable\">\n",
       "<tr>\n",
       "  <th>Omnibus:</th>       <td>11.740</td> <th>  Durbin-Watson:     </th> <td>   1.868</td>\n",
       "</tr>\n",
       "<tr>\n",
       "  <th>Prob(Omnibus):</th> <td> 0.003</td> <th>  Jarque-Bera (JB):  </th> <td>  28.120</td>\n",
       "</tr>\n",
       "<tr>\n",
       "  <th>Skew:</th>          <td> 0.110</td> <th>  Prob(JB):          </th> <td>7.83e-07</td>\n",
       "</tr>\n",
       "<tr>\n",
       "  <th>Kurtosis:</th>      <td> 4.903</td> <th>  Cond. No.          </th> <td>     inf</td>\n",
       "</tr>\n",
       "</table><br/><br/>Notes:<br/>[1] R² is computed without centering (uncentered) since the model does not contain a constant.<br/>[2] Standard Errors assume that the covariance matrix of the errors is correctly specified.<br/>[3] The smallest eigenvalue is      0. This might indicate that there are<br/>strong multicollinearity problems or that the design matrix is singular."
      ],
      "text/latex": [
       "\\begin{center}\n",
       "\\begin{tabular}{lclc}\n",
       "\\toprule\n",
       "\\textbf{Dep. Variable:}    &        y         & \\textbf{  R-squared (uncentered):}      &     0.935   \\\\\n",
       "\\textbf{Model:}            &       OLS        & \\textbf{  Adj. R-squared (uncentered):} &     0.934   \\\\\n",
       "\\textbf{Method:}           &  Least Squares   & \\textbf{  F-statistic:       }          &     518.8   \\\\\n",
       "\\textbf{Date:}             & Wed, 08 May 2024 & \\textbf{  Prob (F-statistic):}          & 1.81e-104   \\\\\n",
       "\\textbf{Time:}             &     20:26:23     & \\textbf{  Log-Likelihood:    }          &   -309.57   \\\\\n",
       "\\textbf{No. Observations:} &         184      & \\textbf{  AIC:               }          &     629.1   \\\\\n",
       "\\textbf{Df Residuals:}     &         179      & \\textbf{  BIC:               }          &     645.2   \\\\\n",
       "\\textbf{Df Model:}         &           5      & \\textbf{                     }          &             \\\\\n",
       "\\textbf{Covariance Type:}  &    nonrobust     & \\textbf{                     }          &             \\\\\n",
       "\\bottomrule\n",
       "\\end{tabular}\n",
       "\\begin{tabular}{lcccccc}\n",
       "               & \\textbf{coef} & \\textbf{std err} & \\textbf{t} & \\textbf{P$> |$t$|$} & \\textbf{[0.025} & \\textbf{0.975]}  \\\\\n",
       "\\midrule\n",
       "\\textbf{x1}    &       0.0031  &        0.000     &    10.674  &         0.000        &        0.003    &        0.004     \\\\\n",
       "\\textbf{x2}    &       0.4381  &        0.031     &    14.128  &         0.000        &        0.377    &        0.499     \\\\\n",
       "\\textbf{x3}    &   -4.423e-05  &     5.23e-06     &    -8.453  &         0.000        &    -5.46e-05    &    -3.39e-05     \\\\\n",
       "\\textbf{x4}    &      -1.6703  &        0.256     &    -6.537  &         0.000        &       -2.174    &       -1.166     \\\\\n",
       "\\textbf{x5}    &      -1.6250  &        0.319     &    -5.091  &         0.000        &       -2.255    &       -0.995     \\\\\n",
       "\\textbf{const} &            0  &            0     &       nan  &           nan        &            0    &            0     \\\\\n",
       "\\bottomrule\n",
       "\\end{tabular}\n",
       "\\begin{tabular}{lclc}\n",
       "\\textbf{Omnibus:}       & 11.740 & \\textbf{  Durbin-Watson:     } &    1.868  \\\\\n",
       "\\textbf{Prob(Omnibus):} &  0.003 & \\textbf{  Jarque-Bera (JB):  } &   28.120  \\\\\n",
       "\\textbf{Skew:}          &  0.110 & \\textbf{  Prob(JB):          } & 7.83e-07  \\\\\n",
       "\\textbf{Kurtosis:}      &  4.903 & \\textbf{  Cond. No.          } &      inf  \\\\\n",
       "\\bottomrule\n",
       "\\end{tabular}\n",
       "%\\caption{OLS Regression Results}\n",
       "\\end{center}\n",
       "\n",
       "Notes: \\newline\n",
       " [1] R² is computed without centering (uncentered) since the model does not contain a constant. \\newline\n",
       " [2] Standard Errors assume that the covariance matrix of the errors is correctly specified. \\newline\n",
       " [3] The smallest eigenvalue is      0. This might indicate that there are \\newline\n",
       " strong multicollinearity problems or that the design matrix is singular."
      ],
      "text/plain": [
       "<class 'statsmodels.iolib.summary.Summary'>\n",
       "\"\"\"\n",
       "                                 OLS Regression Results                                \n",
       "=======================================================================================\n",
       "Dep. Variable:                      y   R-squared (uncentered):                   0.935\n",
       "Model:                            OLS   Adj. R-squared (uncentered):              0.934\n",
       "Method:                 Least Squares   F-statistic:                              518.8\n",
       "Date:                Wed, 08 May 2024   Prob (F-statistic):                   1.81e-104\n",
       "Time:                        20:26:23   Log-Likelihood:                         -309.57\n",
       "No. Observations:                 184   AIC:                                      629.1\n",
       "Df Residuals:                     179   BIC:                                      645.2\n",
       "Df Model:                           5                                                  \n",
       "Covariance Type:            nonrobust                                                  \n",
       "==============================================================================\n",
       "                 coef    std err          t      P>|t|      [0.025      0.975]\n",
       "------------------------------------------------------------------------------\n",
       "x1             0.0031      0.000     10.674      0.000       0.003       0.004\n",
       "x2             0.4381      0.031     14.128      0.000       0.377       0.499\n",
       "x3         -4.423e-05   5.23e-06     -8.453      0.000   -5.46e-05   -3.39e-05\n",
       "x4            -1.6703      0.256     -6.537      0.000      -2.174      -1.166\n",
       "x5            -1.6250      0.319     -5.091      0.000      -2.255      -0.995\n",
       "const               0          0        nan        nan           0           0\n",
       "==============================================================================\n",
       "Omnibus:                       11.740   Durbin-Watson:                   1.868\n",
       "Prob(Omnibus):                  0.003   Jarque-Bera (JB):               28.120\n",
       "Skew:                           0.110   Prob(JB):                     7.83e-07\n",
       "Kurtosis:                       4.903   Cond. No.                          inf\n",
       "==============================================================================\n",
       "\n",
       "Notes:\n",
       "[1] R² is computed without centering (uncentered) since the model does not contain a constant.\n",
       "[2] Standard Errors assume that the covariance matrix of the errors is correctly specified.\n",
       "[3] The smallest eigenvalue is      0. This might indicate that there are\n",
       "strong multicollinearity problems or that the design matrix is singular.\n",
       "\"\"\""
      ]
     },
     "execution_count": 50,
     "metadata": {},
     "output_type": "execute_result"
    }
   ],
   "source": [
    "regressor_tuned.summary()"
   ]
  },
  {
   "cell_type": "markdown",
   "id": "395b7347",
   "metadata": {},
   "source": [
    "# <p id=\"3\" style=\"text-align: center; padding: 20px; background-color: #E8F0FE; border-radius: 10px; border: 2px solid #C40C0C; font-size: 16px; color: #1A202C; box-shadow: 0 4px 6px rgba(0, 0, 0, 0.1);\">13: Model Result </p>"
   ]
  },
  {
   "cell_type": "markdown",
   "id": "7e80bd73",
   "metadata": {},
   "source": [
    "## `Intial Model`\n",
    "   - R2 Value : 0.859\n",
    "   - Adjusted R2 : 0.855\n",
    "   \n",
    "## `Tuned Model`\n",
    "   - R2 Value : 0.931\n",
    "   - Adjusted R2 : 0.929\n",
    "   \n",
    "### `Overall there is an good increase in R2 and Adjusted R2 values after Tunning the Model.`"
   ]
  }
 ],
 "metadata": {
  "kernelspec": {
   "display_name": "Python 3 (ipykernel)",
   "language": "python",
   "name": "python3"
  },
  "language_info": {
   "codemirror_mode": {
    "name": "ipython",
    "version": 3
   },
   "file_extension": ".py",
   "mimetype": "text/x-python",
   "name": "python",
   "nbconvert_exporter": "python",
   "pygments_lexer": "ipython3",
   "version": "3.11.4"
  }
 },
 "nbformat": 4,
 "nbformat_minor": 5
}
